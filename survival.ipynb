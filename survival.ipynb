{
 "cells": [
  {
   "cell_type": "code",
   "execution_count": 1,
   "id": "78659776-62fc-49d3-a327-af5c933d9354",
   "metadata": {},
   "outputs": [
    {
     "name": "stderr",
     "output_type": "stream",
     "text": [
      "\n",
      "Attaching package: ‘dplyr’\n",
      "\n",
      "\n",
      "The following objects are masked from ‘package:stats’:\n",
      "\n",
      "    filter, lag\n",
      "\n",
      "\n",
      "The following objects are masked from ‘package:base’:\n",
      "\n",
      "    intersect, setdiff, setequal, union\n",
      "\n",
      "\n"
     ]
    }
   ],
   "source": [
    "library(ggplot2)\n",
    "library(dplyr)\n",
    "library(tidyr)\n",
    "df <- read.csv(\"vase_daily.csv\")"
   ]
  },
  {
   "cell_type": "code",
   "execution_count": 2,
   "id": "374224fb-96a7-48c1-926e-c7f72378ff9e",
   "metadata": {},
   "outputs": [],
   "source": [
    "cdf <- df %>%\n",
    "    dplyr::arrange(Date) %>%\n",
    "    dplyr::mutate(prop = (N_dead + N_dying) / N_total) %>%\n",
    "    dplyr::group_by(Vase) %>%\n",
    "    dplyr::mutate(obs_id = paste0(\"obs_\", row_number())) %>%\n",
    "    dplyr::ungroup() %>%\n",
    "    dplyr::select(Vase, obs_id, prop) %>%\n",
    "    tidyr::pivot_wider(names_from = obs_id, values_from = prop)"
   ]
  },
  {
   "cell_type": "code",
   "execution_count": 9,
   "id": "0b305e7d-bbc1-4eaa-83bf-2f30d138142e",
   "metadata": {},
   "outputs": [],
   "source": [
    "cdf_long <- cdf %>%\n",
    "  pivot_longer(\n",
    "    cols = starts_with(\"obs_\"),\n",
    "    names_to = \"Observation\",\n",
    "    values_to = \"Value\"\n",
    "  ) %>%\n",
    "  mutate(Observation = rep(c(0, 2, 3, 4),4))\n",
    "\n",
    "p <- ggplot(cdf_long, aes(x = Observation, y = 100 * Value, color = Vase, group = Vase)) +\n",
    "  geom_line(linewidth = 1) + \n",
    "  geom_point(size = 2) +\n",
    "  scale_x_continuous(breaks = c(1, 2, 3, 4)) +\n",
    "  labs(\n",
    "    title = \"Proportion of dying/dead flowers\",\n",
    "    x = \"Time (days)\",\n",
    "    y = \"Proportion (%)\"\n",
    "  ) +\n",
    "  theme_minimal() + \n",
    "  scale_color_discrete(\n",
    "    name = \"Preservative-Water\", \n",
    "    labels = c(\"Yes-Filtered\", \"No-Filtered\", \"Yes-Tap\", \"No-Tap\") \n",
    "  )\n",
    "\n",
    "ggsave(\n",
    "  filename = \"survival.pdf\", \n",
    "  plot = p,                     \n",
    "  device = \"pdf\",                     \n",
    "  width = 4,                      \n",
    "  height = 3,                        \n",
    "  units = \"in\"                      \n",
    ")"
   ]
  }
 ],
 "metadata": {
  "kernelspec": {
   "display_name": "R",
   "language": "R",
   "name": "ir"
  },
  "language_info": {
   "codemirror_mode": "r",
   "file_extension": ".r",
   "mimetype": "text/x-r-source",
   "name": "R",
   "pygments_lexer": "r",
   "version": "4.4.3"
  }
 },
 "nbformat": 4,
 "nbformat_minor": 5
}
